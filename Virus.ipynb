{
 "cells": [
  {
   "cell_type": "markdown",
   "metadata": {},
   "source": [
    "Data: https://zh.wikipedia.org/wiki/%E6%96%B0%E5%9E%8B%E5%86%A0%E7%8B%80%E7%97%85%E6%AF%92%E8%82%BA%E7%82%8E%E5%85%A8%E7%90%83%E7%96%AB%E6%83%85%E7%97%85%E4%BE%8B\n",
    "\n",
    "Also here:\n",
    "https://news.sina.cn/zt_d/yiqing0121"
   ]
  },
  {
   "cell_type": "code",
   "execution_count": 1,
   "metadata": {},
   "outputs": [],
   "source": [
    "c = [\n",
    "    4, \n",
    "    17,\n",
    "    59,\n",
    "    78, \n",
    "    92, \n",
    "    149, \n",
    "    131, \n",
    "    259, \n",
    "    444, \n",
    "    688, \n",
    "    769, \n",
    "    1771,\n",
    "    1459,\n",
    "    1816\n",
    "]"
   ]
  },
  {
   "cell_type": "code",
   "execution_count": 2,
   "metadata": {},
   "outputs": [],
   "source": [
    "import matplotlib.pyplot as plt\n",
    "import seaborn as sns\n",
    "import numpy as np\n",
    "from scipy.optimize import curve_fit\n",
    "from scipy import stats"
   ]
  },
  {
   "cell_type": "code",
   "execution_count": 3,
   "metadata": {},
   "outputs": [
    {
     "name": "stdout",
     "output_type": "stream",
     "text": [
      "[4, 21, 80, 158, 250, 399, 530, 789, 1233, 1921, 2690, 4461, 5920, 7736]\n",
      "[80, 158, 250, 399, 530, 789, 1233, 1921, 2690, 4461, 5920, 7736]\n"
     ]
    }
   ],
   "source": [
    "total = [c[0]]\n",
    "for i in c[1:]:\n",
    "    total.append(total[-1] + i)\n",
    "print(total)\n",
    "total = total[2:]\n",
    "print(total)"
   ]
  },
  {
   "cell_type": "code",
   "execution_count": 4,
   "metadata": {},
   "outputs": [
    {
     "name": "stdout",
     "output_type": "stream",
     "text": [
      "1.959963984540054\n"
     ]
    }
   ],
   "source": [
    "# Define confidence interval.\n",
    "ci = 0.95\n",
    "# Convert to percentile point of the normal distribution.\n",
    "# See: https://en.wikipedia.org/wiki/Standard_score\n",
    "pp = (1. + ci) / 2.\n",
    "# Convert to number of standard deviations.\n",
    "nstd = stats.norm.ppf(pp)\n",
    "print(nstd)"
   ]
  },
  {
   "cell_type": "markdown",
   "metadata": {},
   "source": [
    "# Growth total"
   ]
  },
  {
   "cell_type": "code",
   "execution_count": 5,
   "metadata": {},
   "outputs": [
    {
     "name": "stdout",
     "output_type": "stream",
     "text": [
      "[  1.43921769 -12.7282506 ]\n",
      "0.9920822177248264\n"
     ]
    },
    {
     "data": {
      "image/png": "[encoded data removed]",
      "text/plain": [
       "<Figure size 432x288 with 1 Axes>"
      ]
     },
     "metadata": {},
     "output_type": "display_data"
    }
   ],
   "source": [
    "sns.set_style(\"darkgrid\")\n",
    "def exp(x, a, c):\n",
    "    y = a ** (x - c)\n",
    "    return y\n",
    "    \n",
    "xdata = np.arange(1, len(total)+1)\n",
    "ydata = np.array(total)\n",
    "# initial guess for curve fit coefficients\n",
    "guess = [20, 1, 50000, 0]\n",
    "\n",
    "popt, pcov = curve_fit(exp, xdata, ydata, sigma=np.sqrt(xdata))\n",
    "print(popt)\n",
    "# Standard deviation errors on the parameters.\n",
    "perr = np.sqrt(np.diag(pcov))\n",
    "popt_up = popt + nstd * perr\n",
    "popt_down = popt - nstd * perr\n",
    "# print(popt_up, popt_down)\n",
    "residuals = ydata - exp(xdata, *popt)\n",
    "ss_res = np.sum(residuals**2)\n",
    "ss_tot = np.sum((ydata-np.mean(ydata))**2)\n",
    "r_squared = 1 - (ss_res / ss_tot)\n",
    "print(r_squared)\n",
    "\n",
    "x = np.linspace(0, 20, 50)\n",
    "y = exp(x, *popt)\n",
    "tmr = len(xdata) + 1\n",
    "pred = int(exp(tmr, *popt))\n",
    "pred_up = int(exp(tmr, *popt_up))\n",
    "pred_down = int(exp(tmr, *popt_down))\n",
    "\n",
    "plt.plot(xdata, ydata, 'o', markersize=6., label='data')\n",
    "plt.plot(x, y, label=r'exp fit $R^2$~{}'.format(round(r_squared, 3)), c='r', lw=2.)\n",
    "plt.plot(x, exp(x, *popt_up), c='g', dashes=[6, 2], lw=1., label='95% cf up')\n",
    "plt.plot(x, exp(x, *popt_down), c='b', dashes=[6, 2], lw=1., label='95% cf down')\n",
    "plt.xlabel('date')\n",
    "plt.ylabel('n')\n",
    "plt.ylim(1, 2E4)\n",
    "# plt.yscale('log')\n",
    "plt.legend(loc='best')\n",
    "plt.title(\"Tomorrow, {}, 95%~[{}, {}]\".format(pred, pred_down, pred_up))\n",
    "plt.savefig('Plots/1_30_2020.png', dpi=300)\n",
    "plt.show()"
   ]
  },
  {
   "cell_type": "markdown",
   "metadata": {},
   "source": [
    "# Growth rate is also exp"
   ]
  },
  {
   "cell_type": "code",
   "execution_count": 6,
   "metadata": {},
   "outputs": [],
   "source": [
    "# xdata = np.arange(1, len(total)+1)\n",
    "# ydata = np.array(c)\n",
    "# # initial guess for curve fit coefficients\n",
    "# guess = [20, 1, 50000, 0]\n",
    "\n",
    "# popt, pcov = curve_fit(exp, xdata, ydata, sigma=np.sqrt(ydata))\n",
    "# print(popt)\n",
    "\n",
    "# x = np.linspace(0, 15, 50)\n",
    "# y = exp(x, *popt)\n",
    "\n",
    "# plt.plot(xdata, ydata, 'o', label='data')\n",
    "# plt.plot(x, y, label='fit')\n",
    "# plt.ylim(1, 1E4)\n",
    "# plt.yscale('log')\n",
    "# plt.legend(loc='best')\n",
    "# plt.show()"
   ]
  },
  {
   "cell_type": "markdown",
   "metadata": {},
   "source": [
    "# Total can converge now"
   ]
  },
  {
   "cell_type": "code",
   "execution_count": 8,
   "metadata": {},
   "outputs": [
    {
     "name": "stdout",
     "output_type": "stream",
     "text": [
      "[1.60426991e+00 1.66964160e+04 1.03877592e+00 8.36679377e+00]\n"
     ]
    },
    {
     "name": "stderr",
     "output_type": "stream",
     "text": [
      "/Users/renormalization/Git/Envs/PlayGround/lib/python3.7/site-packages/ipykernel_launcher.py:2: RuntimeWarning: overflow encountered in double_scalars\n",
      "  \n"
     ]
    },
    {
     "data": {
      "image/png": "[encoded data removed]",
      "text/plain": [
       "<Figure size 432x288 with 1 Axes>"
      ]
     },
     "metadata": {},
     "output_type": "display_data"
    }
   ],
   "source": [
    "def sigmoid(x, a, n, b, c):\n",
    "    y = n * 1 / (1  +  b * n * a ** (-c - x))\n",
    "    return y\n",
    "\n",
    "# initial guess for curve fit coefficients\n",
    "ydata = np.array(total)\n",
    "guess = [1, 30000, 2, 5]\n",
    "popt, pcov = curve_fit(sigmoid, xdata, ydata, p0=guess, sigma=np.sqrt(xdata), bounds=([0, 1E4, 0, 0], [10, 1E6, 20, 20]))\n",
    "print(popt)\n",
    "\n",
    "perr = np.sqrt(np.diag(pcov))\n",
    "popt_up = popt + nstd * perr\n",
    "popt_down = popt - nstd * perr\n",
    "\n",
    "x = np.linspace(0, 50, 100)\n",
    "y = sigmoid(x, *popt)\n",
    "\n",
    "tmr = len(xdata) + 1\n",
    "pred = int(sigmoid(tmr, *popt))\n",
    "pred_up = int(sigmoid(tmr, *popt_up))\n",
    "pred_down = int(sigmoid(tmr, *popt_down))\n",
    "\n",
    "plt.plot(xdata, ydata, 'o', label='data')\n",
    "plt.plot(x, y, label='fit')\n",
    "# plt.plot(x, sigmoid(x, *popt_up), c='g', dashes=[6, 2], lw=1., label='95% cf up')\n",
    "# plt.plot(x, sigmoid(x, *popt_down), c='b', dashes=[6, 2], lw=1., label='95% cf down')\n",
    "plt.title(\"Tomorrow, {}\".format(pred))\n",
    "plt.ylim(1, 2E4)\n",
    "plt.savefig('Plots/1_30_2020_sigmoid.png', dpi=300)\n",
    "plt.legend(loc='best')\n",
    "plt.xlabel('date')\n",
    "plt.ylabel('n')\n",
    "plt.show()"
   ]
  },
  {
   "cell_type": "code",
   "execution_count": null,
   "metadata": {},
   "outputs": [],
   "source": []
  }
 ],
 "metadata": {
  "kernelspec": {
   "display_name": "Python 3",
   "language": "python",
   "name": "python3"
  },
  "language_info": {
   "codemirror_mode": {
    "name": "ipython",
    "version": 3
   },
   "file_extension": ".py",
   "mimetype": "text/x-python",
   "name": "python",
   "nbconvert_exporter": "python",
   "pygments_lexer": "ipython3",
   "version": "3.7.4"
  }
 },
 "nbformat": 4,
 "nbformat_minor": 2
}
