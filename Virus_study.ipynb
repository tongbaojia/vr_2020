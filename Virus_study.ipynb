{
 "cells": [
  {
   "cell_type": "markdown",
   "metadata": {},
   "source": [
    "# Data Source"
   ]
  },
  {
   "cell_type": "markdown",
   "metadata": {},
   "source": [
    "## Google trend on virus\n",
    "- https://trends.google.com/trends/explore?date=today%203-m&geo=US&q=%2Fm%2F01cpyy\n",
    "- coronavirus was only confirmed in Feb, and it has a different time series as the word virus"
   ]
  },
  {
   "cell_type": "markdown",
   "metadata": {},
   "source": [
    "# Daily count on Wikipedia\n",
    "- Mainland China: https://en.wikipedia.org/wiki/2019%E2%80%9320_coronavirus_outbreak_in_mainland_China\n",
    "- Outside China: https://en.wikipedia.org/wiki/Template:2019%E2%80%9320_coronavirus_outbreak_data/International_medical_cases\n",
    "- Outside China: https://en.wikipedia.org/wiki/Template:2019%E2%80%9320_coronavirus_pandemic_data/WHO_situation_reports\n",
    "- US: https://en.wikipedia.org/wiki/Template:2019%E2%80%9320_coronavirus_outbreak_data/International_medical_cases\n"
   ]
  },
  {
   "cell_type": "code",
   "execution_count": null,
   "metadata": {},
   "outputs": [
    {
     "name": "stderr",
     "output_type": "stream",
     "text": [
      "/Users/btong/Envs/PlayGround/lib/python3.6/site-packages/pandas/compat/__init__.py:84: UserWarning: Could not import the lzma module. Your installed Python is incomplete. Attempting to use lzma compression will result in a RuntimeError.\n",
      "  warnings.warn(msg)\n",
      "/Users/btong/Envs/PlayGround/lib/python3.6/site-packages/pandas/compat/__init__.py:84: UserWarning: Could not import the lzma module. Your installed Python is incomplete. Attempting to use lzma compression will result in a RuntimeError.\n",
      "  warnings.warn(msg)\n"
     ]
    }
   ],
   "source": [
    "import pandas as pd\n",
    "import matplotlib.pyplot as plt\n",
    "import seaborn as sns\n",
    "import numpy as np\n",
    "from scipy.optimize import curve_fit\n",
    "from scipy import stats\n",
    "from datetime import date, timedelta"
   ]
  },
  {
   "cell_type": "code",
   "execution_count": null,
   "metadata": {},
   "outputs": [],
   "source": [
    "df_world = pd.read_csv(\"Data/World_noChina_20200307.csv\")\n",
    "df_world = df_world.fillna(0)"
   ]
  },
  {
   "cell_type": "code",
   "execution_count": null,
   "metadata": {},
   "outputs": [],
   "source": [
    "df_china = pd.read_csv(\"Data/China_20200307.csv\")\n",
    "df_china = df_china.fillna(0)"
   ]
  },
  {
   "cell_type": "code",
   "execution_count": null,
   "metadata": {},
   "outputs": [],
   "source": [
    "df_us = pd.read_csv(\"Data/US_20200307.csv\")\n",
    "df_us = df_us.fillna(0)"
   ]
  },
  {
   "cell_type": "code",
   "execution_count": null,
   "metadata": {},
   "outputs": [],
   "source": [
    "# df_us['Cases'] = df_us['Cases'].cumsum()\n",
    "# df_us.to_csv(\"Data/us_20200307.csv\", index=False)"
   ]
  },
  {
   "cell_type": "code",
   "execution_count": null,
   "metadata": {},
   "outputs": [],
   "source": [
    "# df_china[\"Cases\"] = df_china[\"Cases\"].apply(lambda x: int(x.replace(\",\", \"\")))\n",
    "# df_china.to_csv(\"Data/China_20200307.csv\", index=False)"
   ]
  },
  {
   "cell_type": "code",
   "execution_count": null,
   "metadata": {},
   "outputs": [],
   "source": [
    "tmr_date = date.today() # +  timedelta(days=1)"
   ]
  },
  {
   "cell_type": "code",
   "execution_count": null,
   "metadata": {},
   "outputs": [],
   "source": [
    "# Define confidence interval.\n",
    "ci = 0.95\n",
    "# Convert to percentile point of the normal distribution.\n",
    "# See: https://en.wikipedia.org/wiki/Standard_score\n",
    "pp = (1. + ci) / 2.\n",
    "# Convert to number of standard deviations.\n",
    "nstd = stats.norm.ppf(pp)\n",
    "print(nstd)\n",
    "\n",
    "sns.set_style(\"whitegrid\")\n",
    "\n",
    "def sigmoid(x, a, n, b, c):\n",
    "    y = n * 1 / (1  +  b * n * a ** (-c - x))\n",
    "    return y\n",
    "\n",
    "def r_squared(x_data, y_data, func, popt):\n",
    "    \"\"\"Compute R squared given the input data and func.\"\"\"\n",
    "    residuals = y_data - func(x_data, *popt)\n",
    "    ss_res = np.sum(residuals**2)\n",
    "    ss_tot = np.sum((y_data-np.mean(y_data))**2)\n",
    "    r_squared = 1 - (ss_res / ss_tot)\n",
    "    return r_squared\n",
    "\n",
    "def prediction(dates, total, my_func, name=\"sigmoid\"):\n",
    "    total = list(total)\n",
    "    # initial guess for curve fit coefficients\n",
    "    starting_index = 0\n",
    "    x_prev_data = np.arange(-starting_index + 1, 1)\n",
    "    y_prev_data = np.array(total[:starting_index])\n",
    "    xdata = np.arange(1, len(total[starting_index:])+1)\n",
    "    ydata = np.array(total[starting_index:])\n",
    "    \n",
    "    guess = [1.3, 100000, 2.2, 10]\n",
    "    popt, pcov = curve_fit(my_func, xdata, ydata, p0=guess, sigma=np.sqrt(xdata), bounds=([0, 2E3, 0, 0], [30, 8E6, 50, 50]))\n",
    "    print(popt)\n",
    "    R2 = r_squared(xdata, ydata, my_func, popt)\n",
    "\n",
    "    perr = np.sqrt(np.diag(pcov))\n",
    "    popt_up = popt + nstd * perr\n",
    "    popt_down = popt - nstd * perr\n",
    "    \n",
    "    forward_steps = 60\n",
    "    x = np.linspace(-starting_index, len(total) - starting_index + forward_steps, 100)\n",
    "    y = my_func(x, *popt)\n",
    "\n",
    "    tmr = len(xdata) + 1\n",
    "    pred = int(my_func(tmr, *popt))\n",
    "    pred_up = int(my_func(tmr, *popt_up))\n",
    "    # pred_down = int(my_func(tmr, *popt_down))\n",
    "    # print(pred_up, pred_down)\n",
    "    print(pred, int(my_func(tmr + 1, *popt)), int(my_func(tmr + 2, *popt)))\n",
    "    \n",
    "    fig = plt.figure(constrained_layout=False)\n",
    "    gs = fig.add_gridspec(nrows=5, ncols=4)\n",
    "    ax1 = fig.add_subplot(gs[0:-1, :])\n",
    "    ax2 = fig.add_subplot(gs[-1, :])\n",
    "   \n",
    "    total_expected = int(popt[1])\n",
    "    ax1.plot(xdata, ydata, 'o', label='Fit data')\n",
    "    ax1.plot(x_prev_data, y_prev_data, '*', label='Unfitted data')\n",
    "    ax1.plot(x, y, label=r'Sigmod fit $R^2$~{}'.format(round(R2, 3)))\n",
    "    ax1.plot([len(total) - starting_index, len(total) - starting_index], [0, ydata[-1]], '--')\n",
    "    ax1.set_title(\"{} \\n tomorrow {}, increase {}, total expected {}\".format(name, pred, pred - total[-1], total_expected))\n",
    "    ax1.set_ylim(1, total_expected * 1.1)\n",
    "    ax1.legend(loc='best')\n",
    "    # ax1.set_xticks([])\n",
    "    # ax1.set_xlabel('Date')\n",
    "    ax1.set_ylabel('N Case')\n",
    "    \n",
    "    residuals = ydata - my_func(xdata, *popt)\n",
    "    prev_residuals = y_prev_data - my_func(x_prev_data, *popt)\n",
    "    ax2.plot(xdata, residuals, 'o', label='residuals')\n",
    "    ax2.plot(x_prev_data, prev_residuals, '*', label='prev residuals')\n",
    "    ax2.plot(x, np.zeros(len(x)))\n",
    "    ax2.set_ylim(min(residuals) * 2, max(residuals) * 2)\n",
    "    ax2.set_xlabel('Date in 2020')\n",
    "    ax2.set_ylabel('Residual')\n",
    "    x_ticks = ax2.get_xticks()\n",
    "    # print(x_ticks)\n",
    "    current_day = len(total) - starting_index\n",
    "    # correct time difference\n",
    "    current_date = date.today() + timedelta(days=1)\n",
    "    date_ticks = []\n",
    "    for x_tick in x_ticks:\n",
    "        date_ticks.append(current_date + timedelta(days=x_tick - current_day))\n",
    "    date_ticks = [i.strftime('%m-%d') for i in date_ticks]\n",
    "    # print(date_ticks)\n",
    "    plt.savefig('Plots/{}_{}.png'.format(tmr_date, name), dpi=300)\n",
    "    ax2.set_xticklabels(date_ticks)\n",
    "    plt.show()\n",
    "    \n",
    "prediction(df_china[\"Date\"], df_china[\"Cases\"], sigmoid, \"pred_china\")"
   ]
  },
  {
   "cell_type": "code",
   "execution_count": null,
   "metadata": {},
   "outputs": [],
   "source": [
    "df_world_selected = df_world[df_world['Date'] > '2020-01-20']\n",
    "df_world_selected[\"Cases\"] = df_world_selected[\"Cases\"] - df_world_selected[\"Cases\"].values[0]\n",
    "prediction(df_world_selected[\"Date\"], df_world_selected[\"Cases\"], sigmoid, \"pred_world_exclude_china\")"
   ]
  },
  {
   "cell_type": "code",
   "execution_count": null,
   "metadata": {},
   "outputs": [],
   "source": [
    "df_us_selected = df_us[df_us['Date'] > '2020-02-28']\n",
    "df_us_selected[\"Cases\"] = df_us_selected[\"Cases\"] - df_us_selected[\"Cases\"].values[0]\n",
    "prediction(df_us_selected[\"Date\"], df_us_selected[\"Cases\"], sigmoid, \"pred_us\")"
   ]
  },
  {
   "cell_type": "code",
   "execution_count": null,
   "metadata": {},
   "outputs": [],
   "source": [
    "# days_to_predict = 100\n",
    "# days = []\n",
    "# # first_day = pd.to_datetime('20.1.13'.replace(',', '/'), yearfirst=True)\n",
    "# current_date = pd.to_datetime(df_world[\"Date\"][0])\n",
    "# for i in range(days_to_predict):\n",
    "#     days.append(current_date)\n",
    "#     current_date  += timedelta(days=1)\n",
    "# pred_world = sigmoid(np.arange(0, days_to_predict), *[1.22191097e+00, 1.74020941e+05, 5.05164051e+00, 5.32881968e+00])\n",
    "\n",
    "# df = pd.DataFrame({\"Date\": days, \"Cases\": pred_world})\n",
    "# df.to_csv(\"Data/World_prediction.csv\", index=False)"
   ]
  },
  {
   "cell_type": "code",
   "execution_count": null,
   "metadata": {},
   "outputs": [],
   "source": [
    "# df['Date'] = df['Date'].apply(lambda x:  pd.to_datetime(x.replace(',', '/'), yearfirst=True))\n"
   ]
  },
  {
   "cell_type": "code",
   "execution_count": null,
   "metadata": {},
   "outputs": [],
   "source": []
  }
 ],
 "metadata": {
  "kernelspec": {
   "display_name": "Python 3",
   "language": "python",
   "name": "python3"
  },
  "language_info": {
   "codemirror_mode": {
    "name": "ipython",
    "version": 3
   },
   "file_extension": ".py",
   "mimetype": "text/x-python",
   "name": "python",
   "nbconvert_exporter": "python",
   "pygments_lexer": "ipython3",
   "version": "3.6.8"
  }
 },
 "nbformat": 4,
 "nbformat_minor": 2
}
